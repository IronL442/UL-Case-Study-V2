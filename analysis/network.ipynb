{
 "cells": [
  {
   "cell_type": "markdown",
   "metadata": {},
   "source": [
    "# Network Analysis"
   ]
  },
  {
   "cell_type": "code",
   "execution_count": 1,
   "metadata": {},
   "outputs": [],
   "source": [
    "import networkx as nx\n",
    "import pandas as pd\n",
    "import matplotlib.pyplot as plt"
   ]
  },
  {
   "cell_type": "markdown",
   "metadata": {},
   "source": [
    "Create user user_id list from preprocessed data"
   ]
  },
  {
   "cell_type": "code",
   "execution_count": 2,
   "metadata": {},
   "outputs": [
    {
     "data": {
      "text/plain": [
       "{'danielwoodard': 1077866112,\n",
       " 'nelsonjacqueline': 1089670430,\n",
       " 'ihooper': 1007478642,\n",
       " 'wrightnicholas': 1039258480,\n",
       " 'michael51': 1022492390}"
      ]
     },
     "execution_count": 2,
     "metadata": {},
     "output_type": "execute_result"
    }
   ],
   "source": [
    "data = pd.read_csv('../output/preprocessed.csv')\n",
    "\n",
    "# Create a dictionary from user_id and user\n",
    "user_id_dict = dict(zip(data['user'], data['user_id']))\n",
    "{k: user_id_dict[k] for k in list(user_id_dict)[:5]}"
   ]
  },
  {
   "cell_type": "code",
   "execution_count": 3,
   "metadata": {},
   "outputs": [
    {
     "data": {
      "text/html": [
       "<div>\n",
       "<style scoped>\n",
       "    .dataframe tbody tr th:only-of-type {\n",
       "        vertical-align: middle;\n",
       "    }\n",
       "\n",
       "    .dataframe tbody tr th {\n",
       "        vertical-align: top;\n",
       "    }\n",
       "\n",
       "    .dataframe thead th {\n",
       "        text-align: right;\n",
       "    }\n",
       "</style>\n",
       "<table border=\"1\" class=\"dataframe\">\n",
       "  <thead>\n",
       "    <tr style=\"text-align: right;\">\n",
       "      <th></th>\n",
       "      <th>timestamp</th>\n",
       "      <th>text</th>\n",
       "      <th>text_id</th>\n",
       "      <th>user</th>\n",
       "      <th>user_id</th>\n",
       "      <th>hashtags</th>\n",
       "      <th>mentions</th>\n",
       "      <th>emojis</th>\n",
       "    </tr>\n",
       "  </thead>\n",
       "  <tbody>\n",
       "    <tr>\n",
       "      <th>0</th>\n",
       "      <td>00:00:00</td>\n",
       "      <td>run business mean juggle countless administrat...</td>\n",
       "      <td>2018569761</td>\n",
       "      <td>danielwoodard</td>\n",
       "      <td>1077866112</td>\n",
       "      <td>['#HRtech', '#businessmanagement']</td>\n",
       "      <td>[]</td>\n",
       "      <td>[]</td>\n",
       "    </tr>\n",
       "    <tr>\n",
       "      <th>1</th>\n",
       "      <td>00:00:00</td>\n",
       "      <td>liz truss walk linger shadow predecessor charl...</td>\n",
       "      <td>2092717718</td>\n",
       "      <td>nelsonjacqueline</td>\n",
       "      <td>1089670430</td>\n",
       "      <td>['#politics']</td>\n",
       "      <td>[]</td>\n",
       "      <td>[]</td>\n",
       "    </tr>\n",
       "    <tr>\n",
       "      <th>2</th>\n",
       "      <td>00:00:00</td>\n",
       "      <td>uk brace war government building london raise ...</td>\n",
       "      <td>2059143248</td>\n",
       "      <td>ihooper</td>\n",
       "      <td>1007478642</td>\n",
       "      <td>['#Ukrainewashed', '#WarPreparedness']</td>\n",
       "      <td>[]</td>\n",
       "      <td>['🇺🇦']</td>\n",
       "    </tr>\n",
       "    <tr>\n",
       "      <th>3</th>\n",
       "      <td>00:00:00</td>\n",
       "      <td>marry second cousin remove not taboo think gen...</td>\n",
       "      <td>2008209828</td>\n",
       "      <td>wrightnicholas</td>\n",
       "      <td>1039258480</td>\n",
       "      <td>['#FamilyTree', '#GeneticFacts']</td>\n",
       "      <td>[]</td>\n",
       "      <td>['🧬']</td>\n",
       "    </tr>\n",
       "    <tr>\n",
       "      <th>4</th>\n",
       "      <td>00:00:00</td>\n",
       "      <td>truly disgraceful indian national congress sto...</td>\n",
       "      <td>2001239278</td>\n",
       "      <td>michael51</td>\n",
       "      <td>1021455936</td>\n",
       "      <td>['#RationChorCongress']</td>\n",
       "      <td>[]</td>\n",
       "      <td>['🤦', '♂']</td>\n",
       "    </tr>\n",
       "    <tr>\n",
       "      <th>5</th>\n",
       "      <td>00:00:00</td>\n",
       "      <td>school teach kid climate change healthcare pre...</td>\n",
       "      <td>2068121373</td>\n",
       "      <td>ihooper</td>\n",
       "      <td>1007478642</td>\n",
       "      <td>['#RealEducation']</td>\n",
       "      <td>[1086130221]</td>\n",
       "      <td>[]</td>\n",
       "    </tr>\n",
       "    <tr>\n",
       "      <th>6</th>\n",
       "      <td>00:00:00</td>\n",
       "      <td>make day mrs stephanie wood profitable strateg...</td>\n",
       "      <td>2018541552</td>\n",
       "      <td>ahenderson</td>\n",
       "      <td>1072983630</td>\n",
       "      <td>['#investment', '#profitable']</td>\n",
       "      <td>[]</td>\n",
       "      <td>[]</td>\n",
       "    </tr>\n",
       "  </tbody>\n",
       "</table>\n",
       "</div>"
      ],
      "text/plain": [
       "  timestamp                                               text     text_id  \\\n",
       "0  00:00:00  run business mean juggle countless administrat...  2018569761   \n",
       "1  00:00:00  liz truss walk linger shadow predecessor charl...  2092717718   \n",
       "2  00:00:00  uk brace war government building london raise ...  2059143248   \n",
       "3  00:00:00  marry second cousin remove not taboo think gen...  2008209828   \n",
       "4  00:00:00  truly disgraceful indian national congress sto...  2001239278   \n",
       "5  00:00:00  school teach kid climate change healthcare pre...  2068121373   \n",
       "6  00:00:00  make day mrs stephanie wood profitable strateg...  2018541552   \n",
       "\n",
       "               user     user_id                                hashtags  \\\n",
       "0     danielwoodard  1077866112      ['#HRtech', '#businessmanagement']   \n",
       "1  nelsonjacqueline  1089670430                           ['#politics']   \n",
       "2           ihooper  1007478642  ['#Ukrainewashed', '#WarPreparedness']   \n",
       "3    wrightnicholas  1039258480        ['#FamilyTree', '#GeneticFacts']   \n",
       "4         michael51  1021455936                 ['#RationChorCongress']   \n",
       "5           ihooper  1007478642                      ['#RealEducation']   \n",
       "6        ahenderson  1072983630          ['#investment', '#profitable']   \n",
       "\n",
       "       mentions      emojis  \n",
       "0            []          []  \n",
       "1            []          []  \n",
       "2            []      ['🇺🇦']  \n",
       "3            []       ['🧬']  \n",
       "4            []  ['🤦', '♂']  \n",
       "5  [1086130221]          []  \n",
       "6            []          []  "
      ]
     },
     "execution_count": 3,
     "metadata": {},
     "output_type": "execute_result"
    }
   ],
   "source": [
    "# Function to convert mentions from usernames to user_ids\n",
    "def convert_mentions_to_ids(mentions, user_id_dict):\n",
    "    return [user_id_dict[mention] for mention in eval(mentions) if mention in user_id_dict]\n",
    "\n",
    "# Apply the function to the mentions column\n",
    "data['mentions'] = data['mentions'].apply(lambda x: convert_mentions_to_ids(x, user_id_dict))\n",
    "\n",
    "data.head(7)"
   ]
  },
  {
   "cell_type": "code",
   "execution_count": 5,
   "metadata": {},
   "outputs": [
    {
     "data": {
      "text/plain": [
       "9185"
      ]
     },
     "execution_count": 5,
     "metadata": {},
     "output_type": "execute_result"
    }
   ],
   "source": [
    "# Load the graph data\n",
    "graph_data = pd.read_csv('../data/graph.csv')\n",
    "\n",
    "# Check if any username in the graph.csv is not in the user relation list\n",
    "missing_users = set(graph_data['source']).union(set(graph_data['target'])) - set(user_id_dict.values())\n",
    "len(missing_users)"
   ]
  },
  {
   "cell_type": "code",
   "execution_count": 40,
   "metadata": {},
   "outputs": [],
   "source": [
    "import ast\n",
    "\n",
    "def create_weighted_network(df):\n",
    "    # Create an empty directed graph\n",
    "    G = nx.DiGraph()\n",
    "    \n",
    "    # Process each row\n",
    "    interaction_counts = {}\n",
    "    \n",
    "    for _, row in df.iterrows():\n",
    "        source = row['user_id']\n",
    "        # Convert string representation of list to actual list\n",
    "        mentions = ast.literal_eval(str(row['mentions']))  # Use ast.literal_eval for more safety\n",
    "        \n",
    "        # Add edges for each mention\n",
    "        for target in mentions:\n",
    "            if (source, target) in interaction_counts:\n",
    "                interaction_counts[(source, target)] += 1\n",
    "            else:\n",
    "                interaction_counts[(source, target)] = 1\n",
    "    \n",
    "    # Find maximum interactions for normalization\n",
    "    max_interactions = max(interaction_counts.values())\n",
    "    \n",
    "    # Add normalized weighted edges\n",
    "    for (source, target), count in interaction_counts.items():\n",
    "        normalized_weight = count / max_interactions\n",
    "        G.add_edge(source, target, weight=normalized_weight)\n",
    "    \n",
    "    return G\n",
    "\n",
    "# Usage\n",
    "G = create_weighted_network(data)"
   ]
  },
  {
   "cell_type": "code",
   "execution_count": null,
   "metadata": {},
   "outputs": [],
   "source": []
  }
 ],
 "metadata": {
  "kernelspec": {
   "display_name": "base",
   "language": "python",
   "name": "python3"
  },
  "language_info": {
   "codemirror_mode": {
    "name": "ipython",
    "version": 3
   },
   "file_extension": ".py",
   "mimetype": "text/x-python",
   "name": "python",
   "nbconvert_exporter": "python",
   "pygments_lexer": "ipython3",
   "version": "3.12.2"
  }
 },
 "nbformat": 4,
 "nbformat_minor": 2
}
