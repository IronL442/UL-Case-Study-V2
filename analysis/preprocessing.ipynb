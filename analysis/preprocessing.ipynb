{
 "cells": [
  {
   "cell_type": "markdown",
   "metadata": {},
   "source": [
    "# Preprocessing\n",
    "1. Convert text to lowercase \n",
    "2. Remove URLs, mentions, and special characters (besides hashtags and emojis)\n",
    "3. Remove stop words\n",
    "4. Perform stemming/lemmatization"
   ]
  },
  {
   "cell_type": "markdown",
   "metadata": {},
   "source": [
    "Download the spaCy model\n",
    "Can be installed via `python -m spacy download en_core_web_sm`\n",
    "\n",
    "Download Pre-Trained-Language Model: `wget https://dl.fbaipublicfiles.com/fasttext/supervised-models/lid.176.bin`"
   ]
  },
  {
   "cell_type": "code",
   "execution_count": 1,
   "metadata": {},
   "outputs": [],
   "source": [
    "import pandas as pd\n",
    "import re\n",
    "import spacy\n",
    "import fasttext\n",
    "from googletrans import Translator"
   ]
  },
  {
   "cell_type": "code",
   "execution_count": 2,
   "metadata": {},
   "outputs": [
    {
     "data": {
      "text/html": [
       "<div>\n",
       "<style scoped>\n",
       "    .dataframe tbody tr th:only-of-type {\n",
       "        vertical-align: middle;\n",
       "    }\n",
       "\n",
       "    .dataframe tbody tr th {\n",
       "        vertical-align: top;\n",
       "    }\n",
       "\n",
       "    .dataframe thead th {\n",
       "        text-align: right;\n",
       "    }\n",
       "</style>\n",
       "<table border=\"1\" class=\"dataframe\">\n",
       "  <thead>\n",
       "    <tr style=\"text-align: right;\">\n",
       "      <th></th>\n",
       "      <th>timestamp</th>\n",
       "      <th>text</th>\n",
       "      <th>text_id</th>\n",
       "      <th>user</th>\n",
       "      <th>user_id</th>\n",
       "    </tr>\n",
       "  </thead>\n",
       "  <tbody>\n",
       "    <tr>\n",
       "      <th>0</th>\n",
       "      <td>2024-10-31</td>\n",
       "      <td>Running a business means juggling countless ad...</td>\n",
       "      <td>2018569761</td>\n",
       "      <td>danielwoodard</td>\n",
       "      <td>1077866112</td>\n",
       "    </tr>\n",
       "    <tr>\n",
       "      <th>1</th>\n",
       "      <td>2024-10-31</td>\n",
       "      <td>Liz Truss is walking in the lingering shadow o...</td>\n",
       "      <td>2092717718</td>\n",
       "      <td>nelsonjacqueline</td>\n",
       "      <td>1089670430</td>\n",
       "    </tr>\n",
       "    <tr>\n",
       "      <th>2</th>\n",
       "      <td>2024-10-31</td>\n",
       "      <td>The UK is bracing for war as government buildi...</td>\n",
       "      <td>2059143248</td>\n",
       "      <td>ihooper</td>\n",
       "      <td>1007478642</td>\n",
       "    </tr>\n",
       "    <tr>\n",
       "      <th>3</th>\n",
       "      <td>2024-10-31</td>\n",
       "      <td>Marrying a second or third cousin once removed...</td>\n",
       "      <td>2008209828</td>\n",
       "      <td>wrightnicholas</td>\n",
       "      <td>1039258480</td>\n",
       "    </tr>\n",
       "    <tr>\n",
       "      <th>4</th>\n",
       "      <td>2024-10-31</td>\n",
       "      <td>It's truly disgraceful how the Indian National...</td>\n",
       "      <td>2001239278</td>\n",
       "      <td>michael51</td>\n",
       "      <td>1021455936</td>\n",
       "    </tr>\n",
       "  </tbody>\n",
       "</table>\n",
       "</div>"
      ],
      "text/plain": [
       "   timestamp                                               text     text_id  \\\n",
       "0 2024-10-31  Running a business means juggling countless ad...  2018569761   \n",
       "1 2024-10-31  Liz Truss is walking in the lingering shadow o...  2092717718   \n",
       "2 2024-10-31  The UK is bracing for war as government buildi...  2059143248   \n",
       "3 2024-10-31  Marrying a second or third cousin once removed...  2008209828   \n",
       "4 2024-10-31  It's truly disgraceful how the Indian National...  2001239278   \n",
       "\n",
       "               user     user_id  \n",
       "0     danielwoodard  1077866112  \n",
       "1  nelsonjacqueline  1089670430  \n",
       "2           ihooper  1007478642  \n",
       "3    wrightnicholas  1039258480  \n",
       "4         michael51  1021455936  "
      ]
     },
     "execution_count": 2,
     "metadata": {},
     "output_type": "execute_result"
    }
   ],
   "source": [
    "# Load the JSON file\n",
    "df_posts = pd.read_json('../data/dataset.json')\n",
    "df_posts.head()"
   ]
  },
  {
   "cell_type": "code",
   "execution_count": 21,
   "metadata": {},
   "outputs": [],
   "source": [
    "# Info this can take over 30m!!\n",
    "# spacy.prefer_gpu()  # Prefers GPU but doesn't crash if unavailable\n",
    "# nlp = spacy.load(\"en_core_web_trf\")\n",
    "# def extract_entities(text):\n",
    "#     \"\"\"\n",
    "#     Extracts named entities from text using SpaCy's NER model.\n",
    "\n",
    "#     Args:\n",
    "#     text (str): The text from which to extract named entities.\n",
    "\n",
    "#     Returns:\n",
    "#     list: A list of tuples where each tuple contains (entity_text, entity_label).\n",
    "#     \"\"\"\n",
    "#     if not text or pd.isna(text):\n",
    "#         return []  # Return an empty list if text is missing\n",
    "\n",
    "#     # Process text with SpaCy\n",
    "#     doc = nlp(text)\n",
    "\n",
    "#     # Extract entity text and labels\n",
    "#     entities = [(ent.text, ent.label_) for ent in doc.ents]\n",
    "\n",
    "#     return entities\n",
    "\n",
    "# def preprocess_text(text):\n",
    "#     \"\"\"\n",
    "#     Preprocesses text by removing URLs and emojis while keeping mentions and hashtags intact.\n",
    "\n",
    "#     Args:\n",
    "#     text (str): The original text.\n",
    "\n",
    "#     Returns:\n",
    "#     str: Preprocessed text.\n",
    "#     \"\"\"\n",
    "#     if not text or pd.isna(text):\n",
    "#         return \"\"  # Return empty string if text is missing\n",
    "\n",
    "#     # Remove URLs\n",
    "#     text = re.sub(r\"http\\S+|www\\S+|https\\S+\", '', text)\n",
    "#     # Remove emojis\n",
    "#     text = emoji.replace_emoji(text, replace=\"\")\n",
    "    \n",
    "#     return text.strip()\n",
    "\n",
    "# # Create a preprocessed text column\n",
    "# df_posts['preprocessed_text'] = df_posts['text'].apply(preprocess_text)\n",
    "\n",
    "# # Apply NER extraction on the preprocessed text\n",
    "# df_posts['entities'] = df_posts['preprocessed_text'].apply(extract_entities)"
   ]
  },
  {
   "cell_type": "markdown",
   "metadata": {},
   "source": [
    "Check for rows with no text"
   ]
  },
  {
   "cell_type": "code",
   "execution_count": 3,
   "metadata": {},
   "outputs": [
    {
     "data": {
      "text/html": [
       "<div>\n",
       "<style scoped>\n",
       "    .dataframe tbody tr th:only-of-type {\n",
       "        vertical-align: middle;\n",
       "    }\n",
       "\n",
       "    .dataframe tbody tr th {\n",
       "        vertical-align: top;\n",
       "    }\n",
       "\n",
       "    .dataframe thead th {\n",
       "        text-align: right;\n",
       "    }\n",
       "</style>\n",
       "<table border=\"1\" class=\"dataframe\">\n",
       "  <thead>\n",
       "    <tr style=\"text-align: right;\">\n",
       "      <th></th>\n",
       "      <th>timestamp</th>\n",
       "      <th>text</th>\n",
       "      <th>text_id</th>\n",
       "      <th>user</th>\n",
       "      <th>user_id</th>\n",
       "    </tr>\n",
       "  </thead>\n",
       "  <tbody>\n",
       "  </tbody>\n",
       "</table>\n",
       "</div>"
      ],
      "text/plain": [
       "Empty DataFrame\n",
       "Columns: [timestamp, text, text_id, user, user_id]\n",
       "Index: []"
      ]
     },
     "execution_count": 3,
     "metadata": {},
     "output_type": "execute_result"
    }
   ],
   "source": [
    "# Display rows where 'text' is missing (NaN)\n",
    "missing_text_rows = df_posts[df_posts['text'].isnull()]\n",
    "missing_text_rows"
   ]
  },
  {
   "cell_type": "markdown",
   "metadata": {},
   "source": [
    "### Convert variables"
   ]
  },
  {
   "cell_type": "markdown",
   "metadata": {},
   "source": [
    "Move hashtags to a new column 'hashtags'"
   ]
  },
  {
   "cell_type": "code",
   "execution_count": 4,
   "metadata": {},
   "outputs": [],
   "source": [
    "# Apply re.findall() to each row in the 'text' column to extract hashtags\n",
    "df_posts['hashtags'] = df_posts['text'].apply(lambda x: re.findall(r'#\\w+', x) if isinstance(x, str) else [])"
   ]
  },
  {
   "cell_type": "markdown",
   "metadata": {},
   "source": [
    "Move mentions to a new column 'mentions'"
   ]
  },
  {
   "cell_type": "code",
   "execution_count": 5,
   "metadata": {},
   "outputs": [],
   "source": [
    "# Extract mentions from the 'text' column, remove the '@' symbol, and create a new column 'mentions'\n",
    "df_posts['mentions'] = df_posts['text'].apply(lambda x: [mention[1:] for mention in re.findall(r'@\\w+', x)] if isinstance(x, str) else [])"
   ]
  },
  {
   "cell_type": "markdown",
   "metadata": {},
   "source": [
    "Convert text to lowercase"
   ]
  },
  {
   "cell_type": "code",
   "execution_count": 6,
   "metadata": {},
   "outputs": [],
   "source": [
    "df_posts['text'] = df_posts['text'].str.lower()"
   ]
  },
  {
   "cell_type": "markdown",
   "metadata": {},
   "source": [
    "Remove Date from Timestamp"
   ]
  },
  {
   "cell_type": "code",
   "execution_count": 7,
   "metadata": {},
   "outputs": [
    {
     "data": {
      "text/plain": [
       "array([datetime.date(2024, 10, 31)], dtype=object)"
      ]
     },
     "execution_count": 7,
     "metadata": {},
     "output_type": "execute_result"
    }
   ],
   "source": [
    "# All Dates are the same\n",
    "unique_dates = df_posts['timestamp'].dt.date.unique()\n",
    "unique_dates"
   ]
  },
  {
   "cell_type": "code",
   "execution_count": 8,
   "metadata": {},
   "outputs": [
    {
     "data": {
      "text/html": [
       "<div>\n",
       "<style scoped>\n",
       "    .dataframe tbody tr th:only-of-type {\n",
       "        vertical-align: middle;\n",
       "    }\n",
       "\n",
       "    .dataframe tbody tr th {\n",
       "        vertical-align: top;\n",
       "    }\n",
       "\n",
       "    .dataframe thead th {\n",
       "        text-align: right;\n",
       "    }\n",
       "</style>\n",
       "<table border=\"1\" class=\"dataframe\">\n",
       "  <thead>\n",
       "    <tr style=\"text-align: right;\">\n",
       "      <th></th>\n",
       "      <th>timestamp</th>\n",
       "      <th>text</th>\n",
       "      <th>text_id</th>\n",
       "      <th>user</th>\n",
       "      <th>user_id</th>\n",
       "      <th>hashtags</th>\n",
       "      <th>mentions</th>\n",
       "    </tr>\n",
       "  </thead>\n",
       "  <tbody>\n",
       "    <tr>\n",
       "      <th>0</th>\n",
       "      <td>00:00:00</td>\n",
       "      <td>running a business means juggling countless ad...</td>\n",
       "      <td>2018569761</td>\n",
       "      <td>danielwoodard</td>\n",
       "      <td>1077866112</td>\n",
       "      <td>[#HRtech, #businessmanagement]</td>\n",
       "      <td>[]</td>\n",
       "    </tr>\n",
       "    <tr>\n",
       "      <th>1</th>\n",
       "      <td>00:00:00</td>\n",
       "      <td>liz truss is walking in the lingering shadow o...</td>\n",
       "      <td>2092717718</td>\n",
       "      <td>nelsonjacqueline</td>\n",
       "      <td>1089670430</td>\n",
       "      <td>[#politics]</td>\n",
       "      <td>[]</td>\n",
       "    </tr>\n",
       "    <tr>\n",
       "      <th>2</th>\n",
       "      <td>00:00:00</td>\n",
       "      <td>the uk is bracing for war as government buildi...</td>\n",
       "      <td>2059143248</td>\n",
       "      <td>ihooper</td>\n",
       "      <td>1007478642</td>\n",
       "      <td>[#Ukrainewashed, #WarPreparedness]</td>\n",
       "      <td>[]</td>\n",
       "    </tr>\n",
       "    <tr>\n",
       "      <th>3</th>\n",
       "      <td>00:00:00</td>\n",
       "      <td>marrying a second or third cousin once removed...</td>\n",
       "      <td>2008209828</td>\n",
       "      <td>wrightnicholas</td>\n",
       "      <td>1039258480</td>\n",
       "      <td>[#FamilyTree, #GeneticFacts]</td>\n",
       "      <td>[]</td>\n",
       "    </tr>\n",
       "    <tr>\n",
       "      <th>4</th>\n",
       "      <td>00:00:00</td>\n",
       "      <td>it's truly disgraceful how the indian national...</td>\n",
       "      <td>2001239278</td>\n",
       "      <td>michael51</td>\n",
       "      <td>1021455936</td>\n",
       "      <td>[#RationChorCongress]</td>\n",
       "      <td>[]</td>\n",
       "    </tr>\n",
       "  </tbody>\n",
       "</table>\n",
       "</div>"
      ],
      "text/plain": [
       "  timestamp                                               text     text_id  \\\n",
       "0  00:00:00  running a business means juggling countless ad...  2018569761   \n",
       "1  00:00:00  liz truss is walking in the lingering shadow o...  2092717718   \n",
       "2  00:00:00  the uk is bracing for war as government buildi...  2059143248   \n",
       "3  00:00:00  marrying a second or third cousin once removed...  2008209828   \n",
       "4  00:00:00  it's truly disgraceful how the indian national...  2001239278   \n",
       "\n",
       "               user     user_id                            hashtags mentions  \n",
       "0     danielwoodard  1077866112      [#HRtech, #businessmanagement]       []  \n",
       "1  nelsonjacqueline  1089670430                         [#politics]       []  \n",
       "2           ihooper  1007478642  [#Ukrainewashed, #WarPreparedness]       []  \n",
       "3    wrightnicholas  1039258480        [#FamilyTree, #GeneticFacts]       []  \n",
       "4         michael51  1021455936               [#RationChorCongress]       []  "
      ]
     },
     "execution_count": 8,
     "metadata": {},
     "output_type": "execute_result"
    }
   ],
   "source": [
    "df_posts['timestamp'] = df_posts['timestamp'].dt.time\n",
    "df_posts.head()"
   ]
  },
  {
   "cell_type": "markdown",
   "metadata": {},
   "source": [
    "### Remove URLs, Mentions, and Special Characters"
   ]
  },
  {
   "cell_type": "markdown",
   "metadata": {},
   "source": [
    "Leave apostrophes in here for better lemmatization performance"
   ]
  },
  {
   "cell_type": "code",
   "execution_count": 9,
   "metadata": {},
   "outputs": [
    {
     "data": {
      "text/html": [
       "<div>\n",
       "<style scoped>\n",
       "    .dataframe tbody tr th:only-of-type {\n",
       "        vertical-align: middle;\n",
       "    }\n",
       "\n",
       "    .dataframe tbody tr th {\n",
       "        vertical-align: top;\n",
       "    }\n",
       "\n",
       "    .dataframe thead th {\n",
       "        text-align: right;\n",
       "    }\n",
       "</style>\n",
       "<table border=\"1\" class=\"dataframe\">\n",
       "  <thead>\n",
       "    <tr style=\"text-align: right;\">\n",
       "      <th></th>\n",
       "      <th>text</th>\n",
       "      <th>emojis</th>\n",
       "    </tr>\n",
       "  </thead>\n",
       "  <tbody>\n",
       "    <tr>\n",
       "      <th>0</th>\n",
       "      <td>running a business means juggling countless ad...</td>\n",
       "      <td>[]</td>\n",
       "    </tr>\n",
       "    <tr>\n",
       "      <th>1</th>\n",
       "      <td>liz truss is walking in the lingering shadow o...</td>\n",
       "      <td>[]</td>\n",
       "    </tr>\n",
       "    <tr>\n",
       "      <th>2</th>\n",
       "      <td>the uk is bracing for war as government buildi...</td>\n",
       "      <td>[🇺🇦]</td>\n",
       "    </tr>\n",
       "    <tr>\n",
       "      <th>3</th>\n",
       "      <td>marrying a second or third cousin once removed...</td>\n",
       "      <td>[🧬]</td>\n",
       "    </tr>\n",
       "    <tr>\n",
       "      <th>4</th>\n",
       "      <td>it's truly disgraceful how the indian national...</td>\n",
       "      <td>[🤦, ♂]</td>\n",
       "    </tr>\n",
       "  </tbody>\n",
       "</table>\n",
       "</div>"
      ],
      "text/plain": [
       "                                                text  emojis\n",
       "0  running a business means juggling countless ad...      []\n",
       "1  liz truss is walking in the lingering shadow o...      []\n",
       "2  the uk is bracing for war as government buildi...    [🇺🇦]\n",
       "3  marrying a second or third cousin once removed...     [🧬]\n",
       "4  it's truly disgraceful how the indian national...  [🤦, ♂]"
      ]
     },
     "execution_count": 9,
     "metadata": {},
     "output_type": "execute_result"
    }
   ],
   "source": [
    "# Pre-compile regex patterns\n",
    "emoji_pattern = re.compile(\"[\"\n",
    "    u\"\\U0001F600-\\U0001F64F\"  # emoticons\n",
    "    u\"\\U0001F300-\\U0001F5FF\"  # symbols & pictographs\n",
    "    u\"\\U0001F680-\\U0001F6FF\"  # transport & map symbols\n",
    "    u\"\\U0001F1E0-\\U0001F1FF\"  # flags\n",
    "    u\"\\U00002700-\\U000027BF\"  # dingbats\n",
    "    u\"\\U0001F900-\\U0001F9FF\"  # supplemental symbols and pictographs\n",
    "    u\"\\U00002600-\\U000026FF\"  # miscellaneous symbols\n",
    "    u\"\\U00002B50-\\U00002B55\"  # stars\n",
    "    \"]+\", flags=re.UNICODE)\n",
    "\n",
    "url_pattern = re.compile(r'http\\S+|www\\S+|https\\S+')  # Removes URLs\n",
    "mention_pattern = re.compile(r'@\\w+')  # Removes mentions\n",
    "punctuation_pattern = re.compile(r\"[^\\w\\s'’]\")  # Removes punctuation but keeps apostrophes\n",
    "number_pattern = re.compile(r'\\d+')  # Removes numbers\n",
    "whitespace_pattern = re.compile(r'\\s+')  # Removes excessive whitespace\n",
    "hashtag_pattern = re.compile(r'#\\w+')  # Removes hashtags and all text after them\n",
    "\n",
    "# Removes spaces between letters in a single word\n",
    "letter_spacing_pattern = re.compile(r'(\\b\\w)(?:\\s+)(\\w\\b)')\n",
    "\n",
    "# List of terms to remove\n",
    "remove_tw_terms = [\"cc\", \"cx\", \"ct\", \"dm\", \"ht\", \"mt\", \"prt\", \"rt\", \"followback\", \"follow back\", \"fb\", \"retweet\", \"retweets\"]\n",
    "\n",
    "# Compile regex to match terms (case insensitive and whole word)\n",
    "remove_terms_pattern = re.compile(r'\\b(' + '|'.join(remove_tw_terms) + r')\\b')\n",
    "\n",
    "# Updated regex for matching spaced-out letters (e.g., \"s h a r e\")\n",
    "letter_spacing_pattern = re.compile(r'(\\b(?:\\w\\s)+\\w\\b)')\n",
    "\n",
    "# Function to merge spaced-out letters\n",
    "def merge_spaced_letters(match):\n",
    "    # Remove spaces within the matched group\n",
    "    return match.group(0).replace(' ', '')\n",
    "\n",
    "def normalize_full_width(text):\n",
    "    # Convert full-width characters to half-width\n",
    "    return ''.join(\n",
    "        chr(ord(char) - 0xFEE0) if 0xFF01 <= ord(char) <= 0xFF5E else char\n",
    "        for char in text\n",
    "    )\n",
    "\n",
    "# Updated preprocessing function\n",
    "def preprocess_text(text):\n",
    "    if pd.isna(text):\n",
    "        return \"\", []  # Handle missing values gracefully\n",
    "    \n",
    "    # Normalize full-width characters\n",
    "    text = normalize_full_width(text)\n",
    "\n",
    "    # Extract emojis\n",
    "    emojis = emoji_pattern.findall(text)  # List of emojis\n",
    "\n",
    "    # Remove hashtags and text following them\n",
    "    text = hashtag_pattern.sub('', text)\n",
    "\n",
    "    # Remove emojis, URLs, mentions, punctuation, and numbers\n",
    "    text = emoji_pattern.sub('', text)  # Remove emojis\n",
    "    text = url_pattern.sub('', text)  # Remove URLs\n",
    "    text = mention_pattern.sub('', text)  # Remove mentions\n",
    "    text = punctuation_pattern.sub('', text)  # Remove punctuation\n",
    "    text = number_pattern.sub('', text)  # Remove numbers\n",
    "\n",
    "    # Remove specific terms (CC, CX, CT, DM, etc.)\n",
    "    text = remove_terms_pattern.sub('', text)\n",
    "\n",
    "    # Normalize letter spacing (e.g., \"s h a r e\" -> \"share\")\n",
    "    text = letter_spacing_pattern.sub(merge_spaced_letters, text)\n",
    "\n",
    "    # Remove excessive whitespace and trim\n",
    "    text = whitespace_pattern.sub(' ', text).strip()\n",
    "\n",
    "    return text, emojis\n",
    "\n",
    "# Apply preprocessing to create new columns\n",
    "df_posts[['text', 'emojis']] = df_posts['text'].apply(lambda x: pd.Series(preprocess_text(x)))\n",
    "\n",
    "# Display head to check the results\n",
    "df_posts[['text', 'emojis']].head()"
   ]
  },
  {
   "cell_type": "markdown",
   "metadata": {},
   "source": [
    "Test output"
   ]
  },
  {
   "cell_type": "code",
   "execution_count": 11,
   "metadata": {},
   "outputs": [],
   "source": [
    "df_posts.to_csv('../output/testing.csv', index=False)"
   ]
  },
  {
   "cell_type": "markdown",
   "metadata": {},
   "source": [
    "## Check for duplicates"
   ]
  },
  {
   "cell_type": "code",
   "execution_count": null,
   "metadata": {},
   "outputs": [],
   "source": [
    "# Total duplicate rows\n",
    "total_duplicate_rows = df_posts['text'].duplicated(keep=False).sum()\n",
    "\n",
    "# Number of unique duplicate tweets\n",
    "unique_duplicate_tweets = (df_posts['text'].value_counts() > 1).sum()\n",
    "\n",
    "print(f\"Total duplicate rows: {total_duplicate_rows}\")\n",
    "print(f\"Unique duplicate tweets: {unique_duplicate_tweets}\")"
   ]
  },
  {
   "cell_type": "markdown",
   "metadata": {},
   "source": [
    "# Duplicate stats"
   ]
  },
  {
   "cell_type": "code",
   "execution_count": null,
   "metadata": {},
   "outputs": [],
   "source": [
    "# Get the frequency distribution of tweets\n",
    "frequency_distribution = df_posts['text'].value_counts()\n",
    "\n",
    "# Filter for only duplicates (frequency > 1)\n",
    "duplicate_tweet_frequencies = frequency_distribution[frequency_distribution > 1]\n",
    "\n",
    "# Summary statistics\n",
    "print(duplicate_tweet_frequencies.describe())\n",
    "\n",
    "# How many tweets are repeated more than 5 times?\n",
    "highly_duplicated = (duplicate_tweet_frequencies > 5).sum()\n",
    "print(f\"Number of tweets repeated more than 5 times: {highly_duplicated}\")"
   ]
  },
  {
   "cell_type": "markdown",
   "metadata": {},
   "source": [
    "Remove duplicate tweets only if the same person posted the same tweet (spam) but extract frequency"
   ]
  },
  {
   "cell_type": "code",
   "execution_count": 14,
   "metadata": {},
   "outputs": [],
   "source": [
    "# Step 1: Group by 'user' and 'text' and calculate the frequency of each combination\n",
    "df_posts['frequency'] = df_posts.groupby(['user', 'text'])['text'].transform('count')\n",
    "\n",
    "# Step 2: Drop duplicates based on 'user' and 'text' (keeping the first occurrence)\n",
    "df_posts = df_posts.drop_duplicates(subset=['user', 'text'], keep='first').reset_index(drop=True)"
   ]
  },
  {
   "cell_type": "code",
   "execution_count": null,
   "metadata": {},
   "outputs": [],
   "source": [
    "df_posts[df_posts['user'] == 'reginabarnes']"
   ]
  },
  {
   "cell_type": "markdown",
   "metadata": {},
   "source": [
    "Indentify language"
   ]
  },
  {
   "cell_type": "code",
   "execution_count": null,
   "metadata": {},
   "outputs": [],
   "source": [
    "# Load the pre-trained language identification model\n",
    "model = fasttext.load_model('../models/lid.176.bin')\n",
    "\n",
    "# Function to detect language using FastText\n",
    "def detect_language_fasttext(text, threshold=0.8):\n",
    "    # Skip tweets with fewer than 3 words\n",
    "    if len(text.split()) < 3:\n",
    "        return None  # Skip these tweets entirely\n",
    "    try:\n",
    "        predictions = model.predict(text)  # Predict the language\n",
    "        lang_code = predictions[0][0].replace(\"__label__\", \"\")  # Extract language code\n",
    "        return lang_code\n",
    "    except Exception as e:\n",
    "        return None  # Skip on exception\n",
    "\n",
    "# Apply language detection to the 'text' column\n",
    "df_posts['language'] = df_posts['text'].apply(detect_language_fasttext)\n",
    "\n",
    "# Filter non-English tweets (ignoring None values)\n",
    "non_english_tweets = df_posts[(df_posts['language'].notna()) & (df_posts['language'] != 'en')]\n",
    "\n",
    "# Filter to keep English tweets AND tweets with None language\n",
    "df_posts = df_posts[(df_posts['language'] == 'en') | (df_posts['language'].isna())].copy()\n",
    "\n",
    "# Print diagnostic information\n",
    "print(f\"Total tweets after filtering: {len(df_posts)}\")\n",
    "print(f\"English tweets: {len(df_posts[df_posts['language'] == 'en'])}\")\n",
    "print(f\"Tweets with None language: {df_posts['language'].isna().sum()}\")\n",
    "print(f\"Number of non-English tweets: {len(non_english_tweets)}\")"
   ]
  },
  {
   "cell_type": "code",
   "execution_count": 17,
   "metadata": {},
   "outputs": [],
   "source": [
    "# Save the non-English tweets to a CSV file\n",
    "non_english_tweets.to_csv('../output/non_english_tweets.csv', index=False)"
   ]
  },
  {
   "cell_type": "markdown",
   "metadata": {},
   "source": [
    "Count the number of appearances of each Language"
   ]
  },
  {
   "cell_type": "code",
   "execution_count": null,
   "metadata": {},
   "outputs": [],
   "source": [
    "language_counts = non_english_tweets['language'].value_counts()\n",
    "\n",
    "print(\"Number of tweets per non-english language:\")\n",
    "print(language_counts)"
   ]
  },
  {
   "cell_type": "markdown",
   "metadata": {},
   "source": [
    "Translate the tweets"
   ]
  },
  {
   "cell_type": "code",
   "execution_count": null,
   "metadata": {},
   "outputs": [],
   "source": [
    "# Initialize translator\n",
    "translator = Translator()\n",
    "\n",
    "languages_to_translate = ['pt', 'es', 'th', 'id']  # List of language codes\n",
    "translated_tweets = non_english_tweets[non_english_tweets['language'].isin(languages_to_translate)]\n",
    "\n",
    "# Function to translate text\n",
    "def translate_text(text):\n",
    "    try:\n",
    "        return translator.translate(text, dest='en').text\n",
    "    except Exception as e:\n",
    "        return text  # Return original text if translation fails\n",
    "\n",
    "# Translate the tweets in the filtered DataFrame\n",
    "translated_tweets['translated_text'] = translated_tweets['text'].apply(translate_text)\n",
    "\n",
    "# Save the translated tweets to a CSV file\n",
    "translated_tweets.to_csv('../output/translated_tweets.csv', index=False)\n",
    "\n",
    "# Display the number of translated tweets\n",
    "print(f\"Number of tweets translated: {len(translated_tweets)}\")"
   ]
  },
  {
   "cell_type": "markdown",
   "metadata": {},
   "source": [
    "Append translated tweets to english tweets dataframe"
   ]
  },
  {
   "cell_type": "code",
   "execution_count": null,
   "metadata": {},
   "outputs": [],
   "source": [
    "df_posts = pd.concat([df_posts, translated_tweets], ignore_index=True)\n",
    "\n",
    "print(f\"Final number of tweets: {len(df_posts)}\")"
   ]
  },
  {
   "cell_type": "markdown",
   "metadata": {},
   "source": [
    "## Use spacy"
   ]
  },
  {
   "cell_type": "markdown",
   "metadata": {},
   "source": [
    "Load en_core_web_sm for spacy"
   ]
  },
  {
   "cell_type": "code",
   "execution_count": null,
   "metadata": {},
   "outputs": [],
   "source": [
    "nlp = spacy.load(\"en_core_web_sm\")"
   ]
  },
  {
   "cell_type": "markdown",
   "metadata": {},
   "source": [
    "### Lemmatization"
   ]
  },
  {
   "cell_type": "markdown",
   "metadata": {},
   "source": [
    "Use lemmatization since stemming can lead to less accurate results (even non-words)"
   ]
  },
  {
   "cell_type": "code",
   "execution_count": null,
   "metadata": {},
   "outputs": [],
   "source": [
    "# Info this takes about 2.5m!!\n",
    "df_posts['text'] = df_posts['text'].apply(\n",
    "        lambda text: ' '.join([token.lemma_ for token in nlp(text)])\n",
    ")"
   ]
  },
  {
   "cell_type": "markdown",
   "metadata": {},
   "source": [
    "### Create output for sentiment analysis"
   ]
  },
  {
   "cell_type": "markdown",
   "metadata": {},
   "source": [
    "Keep stopwords"
   ]
  },
  {
   "cell_type": "code",
   "execution_count": 19,
   "metadata": {},
   "outputs": [],
   "source": [
    "df_posts.to_csv('../output/preprocessed_for_SA.csv', index=False)"
   ]
  },
  {
   "cell_type": "markdown",
   "metadata": {},
   "source": [
    "### Remove stopwords"
   ]
  },
  {
   "cell_type": "code",
   "execution_count": 20,
   "metadata": {},
   "outputs": [],
   "source": [
    "df_posts['text'] = df_posts['text'].fillna(\"\").apply(\n",
    "    lambda text: ' '.join([token.text for token in nlp.make_doc(text) if not token.is_stop])\n",
    ")"
   ]
  },
  {
   "cell_type": "markdown",
   "metadata": {},
   "source": [
    "### Remove Apostrophes"
   ]
  },
  {
   "cell_type": "code",
   "execution_count": 21,
   "metadata": {},
   "outputs": [],
   "source": [
    "df_posts['text'] = df_posts['text'].str.replace(r\"[’']\", \"\", regex=True)"
   ]
  },
  {
   "cell_type": "markdown",
   "metadata": {},
   "source": [
    "### Check again for empty rows"
   ]
  },
  {
   "cell_type": "code",
   "execution_count": null,
   "metadata": {},
   "outputs": [],
   "source": [
    "# Display rows where 'text' is missing (NaN)\n",
    "missing_text_rows = df_posts[df_posts['text'].isnull()]\n",
    "missing_text_rows"
   ]
  },
  {
   "cell_type": "markdown",
   "metadata": {},
   "source": [
    "### Write the output to csv file"
   ]
  },
  {
   "cell_type": "code",
   "execution_count": 23,
   "metadata": {},
   "outputs": [],
   "source": [
    "df_posts.to_csv('../output/preprocessed.csv', index=False)"
   ]
  },
  {
   "cell_type": "code",
   "execution_count": null,
   "metadata": {},
   "outputs": [],
   "source": [
    "df_posts[df_posts['frequency'] > 85]"
   ]
  },
  {
   "cell_type": "markdown",
   "metadata": {},
   "source": [
    "Topic classification with BERTopic\n",
    "\n",
    "Install transformers 4.41.0 for compatability with spacy and BERTopic\n",
    "\n",
    "`pip install transformers==4.41.0` "
   ]
  },
  {
   "cell_type": "markdown",
   "metadata": {},
   "source": [
    "Careful when running this, very hardware intensive"
   ]
  },
  {
   "cell_type": "code",
   "execution_count": 16,
   "metadata": {},
   "outputs": [],
   "source": [
    "from bertopic import BERTopic\n",
    "from sentence_transformers import SentenceTransformer\n",
    "from umap import UMAP\n",
    "from sklearn.feature_extraction.text import CountVectorizer\n",
    "import numpy as np\n",
    "import psutil\n",
    "import gc\n",
    "from tqdm import tqdm\n",
    "\n",
    "def monitor_memory():\n",
    "    \"\"\"Monitor memory usage\"\"\"\n",
    "    process = psutil.Process()\n",
    "    memory_gb = process.memory_info().rss / 1024 / 1024 / 1024\n",
    "    return f\"Memory Usage: {memory_gb:.2f} GB\"\n",
    "\n",
    "def create_multifeature_embeddings(df_posts, sentence_model, batch_size=64):\n",
    "    \"\"\"\n",
    "    Create combined embeddings with memory monitoring and larger batches\n",
    "    \"\"\"\n",
    "    print(f\"\\nStarting embedding generation for {len(df_posts)} documents\")\n",
    "    print(monitor_memory())\n",
    "    \n",
    "    def safe_join(items):\n",
    "        if not items or (isinstance(items, list) and len(items) == 0):\n",
    "            return \"\"\n",
    "        return \" \".join(str(item) for item in items)\n",
    "    \n",
    "    print(\"\\nGenerating text embeddings...\")\n",
    "    text_embeddings = sentence_model.encode(\n",
    "        df_posts['text'].fillna(\"\").tolist(),\n",
    "        batch_size=batch_size,\n",
    "        show_progress_bar=True\n",
    "    )\n",
    "    print(monitor_memory())\n",
    "    \n",
    "    print(\"\\nGenerating hashtag embeddings...\")\n",
    "    hashtag_embeddings = sentence_model.encode(\n",
    "        [safe_join(tags) for tags in df_posts['hashtags']],\n",
    "        batch_size=batch_size,\n",
    "        show_progress_bar=True\n",
    "    )\n",
    "    print(monitor_memory())\n",
    "    \n",
    "    print(\"\\nGenerating emoji embeddings...\")\n",
    "    emoji_embeddings = sentence_model.encode(\n",
    "        [safe_join(emojis) for emojis in df_posts['emojis']],\n",
    "        batch_size=batch_size,\n",
    "        show_progress_bar=True\n",
    "    )\n",
    "    print(monitor_memory())\n",
    "    \n",
    "    print(\"\\nCombining embeddings...\")\n",
    "    combined_embeddings = (\n",
    "        0.97 * text_embeddings + \n",
    "        0.02 * hashtag_embeddings + \n",
    "        0.01 * emoji_embeddings\n",
    "    )\n",
    "    \n",
    "    # Clean up to free memory\n",
    "    del text_embeddings, hashtag_embeddings, emoji_embeddings\n",
    "    gc.collect()\n",
    "    \n",
    "    print(monitor_memory())\n",
    "    return combined_embeddings\n",
    "\n",
    "def setup_bertopic_model(df_posts, batch_size=64):\n",
    "    \"\"\"\n",
    "    Set up and train BERTopic model with memory optimization\n",
    "    \"\"\"\n",
    "    print(f\"\\nDataset size: {len(df_posts)} documents\")\n",
    "    print(f\"DataFrame memory usage: {df_posts.memory_usage().sum() / 1024**2:.2f} MB\")\n",
    "    print(monitor_memory())\n",
    "    \n",
    "    print(\"\\nInitializing models...\")\n",
    "    sentence_model = SentenceTransformer('all-MiniLM-L6-v2')\n",
    "    \n",
    "    # Modified parameters for large dataset\n",
    "    vectorizer_model = CountVectorizer(\n",
    "        stop_words=\"english\",\n",
    "        #min_df=5,  # Increased from 10 for larger dataset\n",
    "        #max_df=0.9,  # Ignore terms that appear in >80% of docs\n",
    "        ngram_range=(1, 2)\n",
    "    )\n",
    "    \n",
    "    # Optimized UMAP settings for large dataset\n",
    "    umap_model = UMAP(\n",
    "        n_neighbors=15,\n",
    "        n_components=5,\n",
    "        min_dist=0.0,\n",
    "        metric='cosine',\n",
    "        low_memory=True,\n",
    "        random_state=42\n",
    "    )\n",
    "    \n",
    "    # Create embeddings\n",
    "    embeddings = create_multifeature_embeddings(df_posts, sentence_model, batch_size)\n",
    "    \n",
    "    # Initialize BERTopic with optimized settings\n",
    "    topic_model = BERTopic(\n",
    "        embedding_model=sentence_model,\n",
    "        vectorizer_model=vectorizer_model,\n",
    "        umap_model=umap_model,\n",
    "        min_topic_size=30,  # Increased for larger dataset\n",
    "        nr_topics='auto',\n",
    "        calculate_probabilities=True,\n",
    "        verbose=True\n",
    "    )\n",
    "    \n",
    "    print(\"\\nFitting BERTopic model...\")\n",
    "    topics, probs = topic_model.fit_transform(\n",
    "        documents=df_posts['text'].fillna(\"\").tolist(),\n",
    "        embeddings=embeddings\n",
    "    )\n",
    "    \n",
    "    return topic_model, topics, probs\n",
    "\n",
    "def analyze_topics(topic_model, topics, df_posts):\n",
    "    \"\"\"\n",
    "    Analyze topics with memory considerations\n",
    "    \"\"\"\n",
    "    print(\"\\nAnalyzing topics...\")\n",
    "    print(monitor_memory())\n",
    "    \n",
    "    topic_info = topic_model.get_topic_info()\n",
    "    \n",
    "    # More memory-efficient way to store topics\n",
    "    df_posts['topic'] = topics\n",
    "    \n",
    "    # Get sample documents for each topic (limited to save memory)\n",
    "    topic_docs = {}\n",
    "    unique_topics = set(topics)\n",
    "    print(f\"\\nFound {len(unique_topics)-1} topics (excluding -1)\")\n",
    "    \n",
    "    for topic in tqdm(unique_topics):\n",
    "        if topic != -1:\n",
    "            topic_docs[topic] = df_posts[df_posts['topic'] == topic]['text'].head(3).tolist()\n",
    "    \n",
    "    try:\n",
    "        print(\"\\nGenerating visualizations...\")\n",
    "        topic_model.visualize_topics()\n",
    "        topic_model.visualize_hierarchy()\n",
    "    except Exception as e:\n",
    "        print(f\"Warning: Visualization error: {e}\")\n",
    "    \n",
    "    return topic_info, topic_docs\n",
    "\n",
    "def run_topic_analysis(df_posts, batch_size=64):\n",
    "    \"\"\"\n",
    "    Run the complete pipeline with memory monitoring\n",
    "    \"\"\"\n",
    "    print(f\"Starting analysis with batch size: {batch_size}\")\n",
    "    print(monitor_memory())\n",
    "    \n",
    "    required_columns = ['text', 'hashtags', 'emojis']\n",
    "    if not all(col in df_posts.columns for col in required_columns):\n",
    "        raise ValueError(f\"Missing columns. Required: {required_columns}\")\n",
    "    \n",
    "    # Optionally sample for testing\n",
    "    df_posts = df_posts.sample(n=10000, random_state=42)  # Uncomment to test with sample\n",
    "    \n",
    "    topic_model, topics, probs = setup_bertopic_model(df_posts, batch_size)\n",
    "    topic_info, topic_docs = analyze_topics(topic_model, topics, df_posts)\n",
    "    \n",
    "    # Create memory-efficient summary\n",
    "    summary = {\n",
    "        'num_topics': len(set(topics)) - 1,\n",
    "        'topic_sizes': topic_info['Count'].tolist(),\n",
    "        'top_topics': topic_info.head(10).to_dict('records')\n",
    "    }\n",
    "    \n",
    "    return topic_model, summary"
   ]
  },
  {
   "cell_type": "code",
   "execution_count": 17,
   "metadata": {},
   "outputs": [
    {
     "name": "stdout",
     "output_type": "stream",
     "text": [
      "Starting analysis with batch size: 64\n",
      "Memory Usage: 0.42 GB\n",
      "\n",
      "Dataset size: 10000 documents\n",
      "DataFrame memory usage: 0.69 MB\n",
      "Memory Usage: 0.48 GB\n",
      "\n",
      "Initializing models...\n",
      "\n",
      "Starting embedding generation for 10000 documents\n",
      "Memory Usage: 0.54 GB\n",
      "\n",
      "Generating text embeddings...\n"
     ]
    },
    {
     "name": "stderr",
     "output_type": "stream",
     "text": [
      "Batches: 100%|██████████| 157/157 [00:07<00:00, 20.94it/s]\n"
     ]
    },
    {
     "name": "stdout",
     "output_type": "stream",
     "text": [
      "Memory Usage: 0.89 GB\n",
      "\n",
      "Generating hashtag embeddings...\n"
     ]
    },
    {
     "name": "stderr",
     "output_type": "stream",
     "text": [
      "Batches: 100%|██████████| 157/157 [00:03<00:00, 44.05it/s]\n"
     ]
    },
    {
     "name": "stdout",
     "output_type": "stream",
     "text": [
      "Memory Usage: 0.98 GB\n",
      "\n",
      "Generating emoji embeddings...\n"
     ]
    },
    {
     "name": "stderr",
     "output_type": "stream",
     "text": [
      "Batches: 100%|██████████| 157/157 [00:01<00:00, 104.92it/s]\n"
     ]
    },
    {
     "name": "stdout",
     "output_type": "stream",
     "text": [
      "Memory Usage: 1.05 GB\n",
      "\n",
      "Combining embeddings...\n"
     ]
    },
    {
     "name": "stderr",
     "output_type": "stream",
     "text": [
      "2025-01-21 23:51:42,469 - BERTopic - Dimensionality - Fitting the dimensionality reduction algorithm\n"
     ]
    },
    {
     "name": "stdout",
     "output_type": "stream",
     "text": [
      "Memory Usage: 1.27 GB\n",
      "\n",
      "Fitting BERTopic model...\n"
     ]
    },
    {
     "name": "stderr",
     "output_type": "stream",
     "text": [
      "2025-01-21 23:51:52,253 - BERTopic - Dimensionality - Completed ✓\n",
      "2025-01-21 23:51:52,253 - BERTopic - Cluster - Start clustering the reduced embeddings\n",
      "2025-01-21 23:51:52,833 - BERTopic - Cluster - Completed ✓\n",
      "2025-01-21 23:51:52,833 - BERTopic - Representation - Extracting topics from clusters using representation models.\n",
      "2025-01-21 23:51:53,065 - BERTopic - Representation - Completed ✓\n",
      "2025-01-21 23:51:53,066 - BERTopic - Topic reduction - Reducing number of topics\n",
      "2025-01-21 23:51:53,290 - BERTopic - Topic reduction - Reduced number of topics from 43 to 27\n"
     ]
    },
    {
     "name": "stdout",
     "output_type": "stream",
     "text": [
      "\n",
      "Analyzing topics...\n",
      "Memory Usage: 1.39 GB\n",
      "\n",
      "Found 26 topics (excluding -1)\n"
     ]
    },
    {
     "name": "stderr",
     "output_type": "stream",
     "text": [
      "100%|██████████| 27/27 [00:00<00:00, 7150.28it/s]\n",
      "2025-01-21 23:51:53,407 - BERTopic - WARNING: When you use `pickle` to save/load a BERTopic model,please make sure that the environments in which you saveand load the model are **exactly** the same. The version of BERTopic,its dependencies, and python need to remain the same.\n"
     ]
    },
    {
     "name": "stdout",
     "output_type": "stream",
     "text": [
      "\n",
      "Generating visualizations...\n",
      "\n",
      "Analysis complete!\n",
      "Found 26 topics\n",
      "\n",
      "Top 10 topics:\n",
      "Topic -1: Size 3535\n",
      "Topic 0: Size 1553\n",
      "Topic 1: Size 930\n",
      "Topic 2: Size 799\n",
      "Topic 3: Size 768\n",
      "Topic 4: Size 257\n",
      "Topic 5: Size 235\n",
      "Topic 6: Size 230\n",
      "Topic 7: Size 218\n",
      "Topic 8: Size 196\n"
     ]
    }
   ],
   "source": [
    "# Then run:\n",
    "try:\n",
    "    # You can adjust batch size based on your memory\n",
    "    topic_model, summary = run_topic_analysis(df_posts, batch_size=64)\n",
    "    \n",
    "    print(f\"\\nAnalysis complete!\")\n",
    "    print(f\"Found {summary['num_topics']} topics\")\n",
    "    print(\"\\nTop 10 topics:\")\n",
    "    for topic in summary['top_topics']:\n",
    "        print(f\"Topic {topic['Topic']}: Size {topic['Count']}\")\n",
    "    \n",
    "    # Save model if needed\n",
    "    topic_model.save(\"bertopic_model_large\")\n",
    "    \n",
    "except Exception as e:\n",
    "    print(f\"Error during analysis: {e}\")"
   ]
  },
  {
   "cell_type": "code",
   "execution_count": 18,
   "metadata": {},
   "outputs": [
    {
     "name": "stdout",
     "output_type": "stream",
     "text": [
      "\n",
      "Most frequent topics with their terms:\n",
      "\n",
      "Topic 0 (Size: 1553):\n",
      "  - business: 0.050\n",
      "  - check: 0.016\n",
      "  - learn: 0.011\n",
      "  - marketing: 0.010\n",
      "  - success: 0.010\n",
      "  - looking: 0.010\n",
      "  - don: 0.010\n",
      "  - online: 0.010\n",
      "  - new: 0.009\n",
      "  - join: 0.009\n",
      "\n",
      "Topic 1 (Size: 930):\n",
      "  - politics: 0.032\n",
      "  - political: 0.018\n",
      "  - truss: 0.014\n",
      "  - people: 0.012\n",
      "  - time: 0.012\n",
      "  - liz truss: 0.011\n",
      "  - liz: 0.011\n",
      "  - let: 0.010\n",
      "  - like: 0.010\n",
      "  - just: 0.010\n",
      "\n",
      "Topic 2 (Size: 799):\n",
      "  - vote: 0.079\n",
      "  - artist: 0.067\n",
      "  - social artist: 0.057\n",
      "  - social: 0.053\n",
      "  - voting: 0.049\n",
      "  - let: 0.046\n",
      "  - army: 0.034\n",
      "  - love: 0.033\n",
      "  - make: 0.032\n",
      "  - counts: 0.030\n",
      "\n",
      "Topic 3 (Size: 768):\n",
      "  - health: 0.040\n",
      "  - mental: 0.038\n",
      "  - mental health: 0.036\n",
      "  - care: 0.013\n",
      "  - healthcare: 0.013\n",
      "  - medical: 0.011\n",
      "  - need: 0.011\n",
      "  - support: 0.011\n",
      "  - impact: 0.010\n",
      "  - energy: 0.010\n",
      "\n",
      "Topic 4 (Size: 257):\n",
      "  - ready: 0.032\n",
      "  - wait: 0.030\n",
      "  - album: 0.027\n",
      "  - days: 0.025\n",
      "  - new: 0.025\n",
      "  - music: 0.023\n",
      "  - new album: 0.021\n",
      "  - amp: 0.020\n",
      "  - epic: 0.020\n",
      "  - track: 0.020\n",
      "\n",
      "Topic 5 (Size: 235):\n",
      "  - health: 0.049\n",
      "  - fat: 0.033\n",
      "  - weight: 0.033\n",
      "  - diet: 0.025\n",
      "  - discover: 0.024\n",
      "  - tips: 0.022\n",
      "  - body: 0.021\n",
      "  - boost: 0.021\n",
      "  - improve: 0.020\n",
      "  - check: 0.019\n",
      "\n",
      "Topic 6 (Size: 230):\n",
      "  - climate: 0.086\n",
      "  - climate change: 0.041\n",
      "  - crisis: 0.039\n",
      "  - climate crisis: 0.039\n",
      "  - change: 0.036\n",
      "  - quiz: 0.023\n",
      "  - carbon: 0.020\n",
      "  - energy: 0.019\n",
      "  - science: 0.019\n",
      "  - quiz climate: 0.017\n",
      "\n",
      "Topic 7 (Size: 218):\n",
      "  - tuchel: 0.041\n",
      "  - chelsea: 0.038\n",
      "  - football: 0.034\n",
      "  - business: 0.030\n",
      "  - club: 0.029\n",
      "  - game: 0.023\n",
      "  - players: 0.021\n",
      "  - just: 0.021\n",
      "  - like: 0.018\n",
      "  - team: 0.015\n",
      "\n",
      "Topic 8 (Size: 196):\n",
      "  - science: 0.106\n",
      "  - fascinating: 0.017\n",
      "  - scientific: 0.016\n",
      "  - knowledge: 0.015\n",
      "  - check: 0.013\n",
      "  - world: 0.013\n",
      "  - learning: 0.011\n",
      "  - exploring: 0.011\n",
      "  - universe: 0.010\n",
      "  - like: 0.010\n"
     ]
    }
   ],
   "source": [
    "# 1. Save visualizations to HTML files\n",
    "fig = topic_model.visualize_barchart(top_n_topics=10)\n",
    "fig.write_html(\"../output/topic_barchart.html\")\n",
    "\n",
    "topic_model.visualize_topics().write_html(\"../output/topic_clusters.html\")\n",
    "topic_model.visualize_hierarchy().write_html(\"../output/topic_hierarchy.html\")\n",
    "\n",
    "# 2. Print text-based summary\n",
    "topics_info = topic_model.get_topic_info()\n",
    "print(\"\\nMost frequent topics with their terms:\")\n",
    "for _, row in topics_info.head(10).iterrows():\n",
    "    topic_id = row['Topic']\n",
    "    size = row['Count']\n",
    "    if topic_id != -1:\n",
    "        terms = topic_model.get_topic(topic_id)\n",
    "        print(f\"\\nTopic {topic_id} (Size: {size}):\")\n",
    "        # Print top 10 terms for each topic with their weights\n",
    "        for term, weight in terms[:10]:\n",
    "            print(f\"  - {term}: {weight:.3f}\")"
   ]
  }
 ],
 "metadata": {
  "kernelspec": {
   "display_name": "venv",
   "language": "python",
   "name": "python3"
  },
  "language_info": {
   "codemirror_mode": {
    "name": "ipython",
    "version": 3
   },
   "file_extension": ".py",
   "mimetype": "text/x-python",
   "name": "python",
   "nbconvert_exporter": "python",
   "pygments_lexer": "ipython3",
   "version": "3.11.11"
  }
 },
 "nbformat": 4,
 "nbformat_minor": 2
}
