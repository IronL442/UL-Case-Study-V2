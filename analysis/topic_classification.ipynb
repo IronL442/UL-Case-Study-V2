{
 "cells": [
  {
   "cell_type": "markdown",
   "metadata": {},
   "source": [
    "Topic classification with BERTopic\n",
    "\n",
    "Install transformers 4.41.0 for compatability with spacy and BERTopic\n",
    "\n",
    "`pip install transformers==4.41.0` "
   ]
  },
  {
   "cell_type": "markdown",
   "metadata": {},
   "source": [
    "Careful when running this, very hardware intensive"
   ]
  },
  {
   "cell_type": "code",
   "execution_count": 4,
   "metadata": {},
   "outputs": [],
   "source": [
    "import pandas as pd\n",
    "from bertopic import BERTopic\n",
    "from sentence_transformers import SentenceTransformer\n",
    "from umap import UMAP\n",
    "from sklearn.feature_extraction.text import CountVectorizer\n",
    "import numpy as np\n",
    "import psutil\n",
    "import gc\n",
    "from tqdm import tqdm\n",
    "import re\n",
    "import umap"
   ]
  },
  {
   "cell_type": "code",
   "execution_count": 5,
   "metadata": {},
   "outputs": [
    {
     "data": {
      "text/html": [
       "<div>\n",
       "<style scoped>\n",
       "    .dataframe tbody tr th:only-of-type {\n",
       "        vertical-align: middle;\n",
       "    }\n",
       "\n",
       "    .dataframe tbody tr th {\n",
       "        vertical-align: top;\n",
       "    }\n",
       "\n",
       "    .dataframe thead th {\n",
       "        text-align: right;\n",
       "    }\n",
       "</style>\n",
       "<table border=\"1\" class=\"dataframe\">\n",
       "  <thead>\n",
       "    <tr style=\"text-align: right;\">\n",
       "      <th></th>\n",
       "      <th>timestamp</th>\n",
       "      <th>text</th>\n",
       "      <th>text_id</th>\n",
       "      <th>user</th>\n",
       "      <th>user_id</th>\n",
       "    </tr>\n",
       "  </thead>\n",
       "  <tbody>\n",
       "    <tr>\n",
       "      <th>0</th>\n",
       "      <td>2024-10-31</td>\n",
       "      <td>Running a business means juggling countless ad...</td>\n",
       "      <td>2018569761</td>\n",
       "      <td>danielwoodard</td>\n",
       "      <td>1077866112</td>\n",
       "    </tr>\n",
       "    <tr>\n",
       "      <th>1</th>\n",
       "      <td>2024-10-31</td>\n",
       "      <td>Liz Truss is walking in the lingering shadow o...</td>\n",
       "      <td>2092717718</td>\n",
       "      <td>nelsonjacqueline</td>\n",
       "      <td>1089670430</td>\n",
       "    </tr>\n",
       "    <tr>\n",
       "      <th>2</th>\n",
       "      <td>2024-10-31</td>\n",
       "      <td>The UK is bracing for war as government buildi...</td>\n",
       "      <td>2059143248</td>\n",
       "      <td>ihooper</td>\n",
       "      <td>1007478642</td>\n",
       "    </tr>\n",
       "    <tr>\n",
       "      <th>3</th>\n",
       "      <td>2024-10-31</td>\n",
       "      <td>Marrying a second or third cousin once removed...</td>\n",
       "      <td>2008209828</td>\n",
       "      <td>wrightnicholas</td>\n",
       "      <td>1039258480</td>\n",
       "    </tr>\n",
       "    <tr>\n",
       "      <th>4</th>\n",
       "      <td>2024-10-31</td>\n",
       "      <td>It's truly disgraceful how the Indian National...</td>\n",
       "      <td>2001239278</td>\n",
       "      <td>michael51</td>\n",
       "      <td>1021455936</td>\n",
       "    </tr>\n",
       "  </tbody>\n",
       "</table>\n",
       "</div>"
      ],
      "text/plain": [
       "   timestamp                                               text     text_id  \\\n",
       "0 2024-10-31  Running a business means juggling countless ad...  2018569761   \n",
       "1 2024-10-31  Liz Truss is walking in the lingering shadow o...  2092717718   \n",
       "2 2024-10-31  The UK is bracing for war as government buildi...  2059143248   \n",
       "3 2024-10-31  Marrying a second or third cousin once removed...  2008209828   \n",
       "4 2024-10-31  It's truly disgraceful how the Indian National...  2001239278   \n",
       "\n",
       "               user     user_id  \n",
       "0     danielwoodard  1077866112  \n",
       "1  nelsonjacqueline  1089670430  \n",
       "2           ihooper  1007478642  \n",
       "3    wrightnicholas  1039258480  \n",
       "4         michael51  1021455936  "
      ]
     },
     "execution_count": 5,
     "metadata": {},
     "output_type": "execute_result"
    }
   ],
   "source": [
    "df_posts = pd.read_json('../data/dataset.json')\n",
    "df_posts.head()"
   ]
  },
  {
   "cell_type": "markdown",
   "metadata": {},
   "source": [
    "Apply minimal preprocessing (Remove URLs and Mentions)"
   ]
  },
  {
   "cell_type": "code",
   "execution_count": 6,
   "metadata": {},
   "outputs": [],
   "source": [
    "df_posts['text'] = df_posts['text'].apply(lambda x: re.sub(r'http\\S+|www\\S+|https\\S+|@\\w+', '', x) if pd.notna(x) else x)"
   ]
  },
  {
   "cell_type": "code",
   "execution_count": 7,
   "metadata": {},
   "outputs": [],
   "source": [
    "#df_posts = df_posts.sample(frac=0.1, random_state=42)  # 10% of the dataset"
   ]
  },
  {
   "cell_type": "code",
   "execution_count": 8,
   "metadata": {},
   "outputs": [],
   "source": [
    "# Monitor memory usage\n",
    "def monitor_memory():\n",
    "    process = psutil.Process()\n",
    "    memory_gb = process.memory_info().rss / 1024 / 1024 / 1024\n",
    "    return f\"Memory Usage: {memory_gb:.2f} GB\"\n",
    "\n",
    "# Create embeddings with memory monitoring and larger batches\n",
    "def create_multifeature_embeddings(df_posts, sentence_model, batch_size=64):\n",
    "    print(f\"\\nStarting embedding generation for {len(df_posts)} documents\")\n",
    "    print(monitor_memory())\n",
    "\n",
    "    print(\"\\nGenerating text embeddings...\")\n",
    "    text_embeddings = sentence_model.encode(\n",
    "        df_posts['text'].fillna(\"\").tolist(),\n",
    "        batch_size=batch_size,\n",
    "        show_progress_bar=True\n",
    "    )\n",
    "    print(monitor_memory())\n",
    "\n",
    "    print(monitor_memory())\n",
    "    return text_embeddings\n",
    "\n",
    "# Set up and train BERTopic model with memory optimization\n",
    "def setup_bertopic_model(df_posts, batch_size=64):\n",
    "    print(f\"\\nDataset size: {len(df_posts)} documents\")\n",
    "    print(f\"DataFrame memory usage: {df_posts.memory_usage().sum() / 1024**2:.2f} MB\")\n",
    "    print(monitor_memory())\n",
    "\n",
    "    print(\"\\nInitializing models...\")\n",
    "    sentence_model = SentenceTransformer('all-MiniLM-L6-v2')\n",
    "\n",
    "    vectorizer_model = CountVectorizer(\n",
    "        stop_words=\"english\",\n",
    "        #min_df = 350,  # Terms must appear in at least 350 rows (0.5% of dataset)\n",
    "        #max_df = 0.8,  # Terms must appear in less than 80% of the dataset (56,000 rows)\n",
    "        ngram_range=(1, 3) # Increase to include trigrams\n",
    "    )\n",
    "\n",
    "    umap_model = UMAP(\n",
    "        n_neighbors=15,\n",
    "        n_components=5,\n",
    "        min_dist=0.0,\n",
    "        metric='cosine',\n",
    "        random_state=42\n",
    "    )\n",
    "\n",
    "    embeddings = create_multifeature_embeddings(df_posts, sentence_model, batch_size)\n",
    "\n",
    "    topic_model = BERTopic(\n",
    "        embedding_model=sentence_model,\n",
    "        vectorizer_model=vectorizer_model,\n",
    "        umap_model=umap_model,\n",
    "        #min_topic_size = 20,      # uncomment to set manual minimum topic size\n",
    "        nr_topics='auto',\n",
    "        calculate_probabilities=True,\n",
    "        verbose=True\n",
    "    )\n",
    "\n",
    "    print(\"\\nFitting BERTopic model...\")\n",
    "    topics, probs = topic_model.fit_transform(\n",
    "        documents=df_posts['text'].fillna(\"\").tolist(),\n",
    "        embeddings=embeddings\n",
    "    )\n",
    "\n",
    "    return topic_model, topics, probs\n",
    "\n",
    "# Analyze topics with memory considerations\n",
    "def analyze_topics(topic_model, topics, df_posts):\n",
    "    print(\"\\nAnalyzing topics...\")\n",
    "    print(monitor_memory())\n",
    "\n",
    "    topic_info = topic_model.get_topic_info()\n",
    "\n",
    "    df_posts['topic'] = topics\n",
    "\n",
    "    topic_docs = {}\n",
    "    unique_topics = set(topics)\n",
    "    print(f\"\\nFound {len(unique_topics)-1} topics (excluding -1)\")\n",
    "\n",
    "    for topic in tqdm(unique_topics):\n",
    "        if topic != -1:\n",
    "            topic_docs[topic] = df_posts[df_posts['topic'] == topic]['text'].head(3).tolist()\n",
    "\n",
    "    try:\n",
    "        print(\"\\nGenerating visualizations...\")\n",
    "        topic_model.visualize_topics()\n",
    "        topic_model.visualize_hierarchy()\n",
    "    except Exception as e:\n",
    "        print(f\"Warning: Visualization error: {e}\")\n",
    "\n",
    "    return topic_info, topic_docs\n",
    "\n",
    "# Run the complete pipeline with memory monitoring\n",
    "def run_topic_analysis(df_posts, batch_size=64):\n",
    "    print(f\"Starting analysis with batch size: {batch_size}\")\n",
    "    print(monitor_memory())\n",
    "\n",
    "    if 'text' not in df_posts.columns:\n",
    "        raise ValueError(\"Missing required column: text\")\n",
    "\n",
    "    topic_model, topics, probs = setup_bertopic_model(df_posts, batch_size)\n",
    "    topic_info, topic_docs = analyze_topics(topic_model, topics, df_posts)\n",
    "\n",
    "    summary = {\n",
    "        'num_topics': len(set(topics)) - 1,\n",
    "        'topic_sizes': topic_info['Count'].tolist(),\n",
    "        'top_topics': topic_info.head(10).to_dict('records')\n",
    "    }\n",
    "\n",
    "    return topic_model, summary, topics, probs"
   ]
  },
  {
   "cell_type": "code",
   "execution_count": null,
   "metadata": {},
   "outputs": [
    {
     "name": "stdout",
     "output_type": "stream",
     "text": [
      "Starting analysis with batch size: 64\n",
      "Memory Usage: 0.67 GB\n",
      "\n",
      "Dataset size: 70260 documents\n",
      "DataFrame memory usage: 2.68 MB\n",
      "Memory Usage: 0.67 GB\n",
      "\n",
      "Initializing models...\n"
     ]
    },
    {
     "data": {
      "application/vnd.jupyter.widget-view+json": {
       "model_id": "1ea3b366fbbc4808b1555d1b8c03b3ad",
       "version_major": 2,
       "version_minor": 0
      },
      "text/plain": [
       "modules.json:   0%|          | 0.00/349 [00:00<?, ?B/s]"
      ]
     },
     "metadata": {},
     "output_type": "display_data"
    },
    {
     "data": {
      "application/vnd.jupyter.widget-view+json": {
       "model_id": "87d0195c96c04186b6d94834d1e92af2",
       "version_major": 2,
       "version_minor": 0
      },
      "text/plain": [
       "config_sentence_transformers.json:   0%|          | 0.00/116 [00:00<?, ?B/s]"
      ]
     },
     "metadata": {},
     "output_type": "display_data"
    },
    {
     "data": {
      "application/vnd.jupyter.widget-view+json": {
       "model_id": "622467ad963547c2bb9543681deb566a",
       "version_major": 2,
       "version_minor": 0
      },
      "text/plain": [
       "README.md:   0%|          | 0.00/10.7k [00:00<?, ?B/s]"
      ]
     },
     "metadata": {},
     "output_type": "display_data"
    },
    {
     "data": {
      "application/vnd.jupyter.widget-view+json": {
       "model_id": "71c02cb575454e408d2fcf6714e6c7f4",
       "version_major": 2,
       "version_minor": 0
      },
      "text/plain": [
       "sentence_bert_config.json:   0%|          | 0.00/53.0 [00:00<?, ?B/s]"
      ]
     },
     "metadata": {},
     "output_type": "display_data"
    },
    {
     "data": {
      "application/vnd.jupyter.widget-view+json": {
       "model_id": "cc555cbad7b84007a9a53f11ae9119b5",
       "version_major": 2,
       "version_minor": 0
      },
      "text/plain": [
       "config.json:   0%|          | 0.00/612 [00:00<?, ?B/s]"
      ]
     },
     "metadata": {},
     "output_type": "display_data"
    },
    {
     "data": {
      "application/vnd.jupyter.widget-view+json": {
       "model_id": "0be44f0e43de4aef98c423268b657e16",
       "version_major": 2,
       "version_minor": 0
      },
      "text/plain": [
       "model.safetensors:   0%|          | 0.00/90.9M [00:00<?, ?B/s]"
      ]
     },
     "metadata": {},
     "output_type": "display_data"
    },
    {
     "data": {
      "application/vnd.jupyter.widget-view+json": {
       "model_id": "a8a663583dd240d796b35a105b4d6ae7",
       "version_major": 2,
       "version_minor": 0
      },
      "text/plain": [
       "tokenizer_config.json:   0%|          | 0.00/350 [00:00<?, ?B/s]"
      ]
     },
     "metadata": {},
     "output_type": "display_data"
    },
    {
     "data": {
      "application/vnd.jupyter.widget-view+json": {
       "model_id": "e859463c383643c099733e92cbfbfb80",
       "version_major": 2,
       "version_minor": 0
      },
      "text/plain": [
       "vocab.txt:   0%|          | 0.00/232k [00:00<?, ?B/s]"
      ]
     },
     "metadata": {},
     "output_type": "display_data"
    },
    {
     "data": {
      "application/vnd.jupyter.widget-view+json": {
       "model_id": "d81d84a4f7d34b09a546a408067423fb",
       "version_major": 2,
       "version_minor": 0
      },
      "text/plain": [
       "tokenizer.json:   0%|          | 0.00/466k [00:00<?, ?B/s]"
      ]
     },
     "metadata": {},
     "output_type": "display_data"
    },
    {
     "data": {
      "application/vnd.jupyter.widget-view+json": {
       "model_id": "9675092fd4834e8d8649b039d0f8a27a",
       "version_major": 2,
       "version_minor": 0
      },
      "text/plain": [
       "special_tokens_map.json:   0%|          | 0.00/112 [00:00<?, ?B/s]"
      ]
     },
     "metadata": {},
     "output_type": "display_data"
    },
    {
     "data": {
      "application/vnd.jupyter.widget-view+json": {
       "model_id": "d4f249a643bb4333911875ee14ce6585",
       "version_major": 2,
       "version_minor": 0
      },
      "text/plain": [
       "1_Pooling/config.json:   0%|          | 0.00/190 [00:00<?, ?B/s]"
      ]
     },
     "metadata": {},
     "output_type": "display_data"
    },
    {
     "name": "stdout",
     "output_type": "stream",
     "text": [
      "\n",
      "Starting embedding generation for 70260 documents\n",
      "Memory Usage: 0.77 GB\n",
      "\n",
      "Generating text embeddings...\n"
     ]
    },
    {
     "data": {
      "application/vnd.jupyter.widget-view+json": {
       "model_id": "6cff7b7c75e34696a422129919ca5b2c",
       "version_major": 2,
       "version_minor": 0
      },
      "text/plain": [
       "Batches:   0%|          | 0/1098 [00:00<?, ?it/s]"
      ]
     },
     "metadata": {},
     "output_type": "display_data"
    },
    {
     "name": "stderr",
     "output_type": "stream",
     "text": [
      "2025-01-26 19:39:11,720 - BERTopic - Dimensionality - Fitting the dimensionality reduction algorithm\n"
     ]
    },
    {
     "name": "stdout",
     "output_type": "stream",
     "text": [
      "Memory Usage: 1.24 GB\n",
      "Memory Usage: 1.24 GB\n",
      "\n",
      "Fitting BERTopic model...\n"
     ]
    },
    {
     "name": "stderr",
     "output_type": "stream",
     "text": [
      "2025-01-26 19:40:08,788 - BERTopic - Dimensionality - Completed ✓\n",
      "2025-01-26 19:40:08,789 - BERTopic - Cluster - Start clustering the reduced embeddings\n"
     ]
    }
   ],
   "source": [
    "try:\n",
    "    topic_model, summary, topics, probs = run_topic_analysis(df_posts, batch_size=64)\n",
    "    \n",
    "    print(f\"\\nAnalysis complete!\")\n",
    "    print(f\"Found {summary['num_topics']} topics\")\n",
    "    print(\"\\nTop 10 topics:\")\n",
    "    for topic in summary['top_topics']:\n",
    "        print(f\"Topic {topic['Topic']}: Size {topic['Count']}\")\n",
    "    \n",
    "    topic_model.save(\"bertopic_model_large\")\n",
    "    \n",
    "except Exception as e:\n",
    "    print(f\"Error during analysis: {e}\")"
   ]
  },
  {
   "cell_type": "code",
   "execution_count": null,
   "metadata": {},
   "outputs": [],
   "source": [
    "# 1. Save visualizations to HTML files\n",
    "fig = topic_model.visualize_barchart(top_n_topics=20)\n",
    "fig.write_html(\"../output/topic_barchart.html\")\n",
    "\n",
    "topic_model.visualize_topics().write_html(\"../output/topic_clusters.html\")\n",
    "topic_model.visualize_hierarchy().write_html(\"../output/topic_hierarchy.html\")\n",
    "\n",
    "# 2. Print text-based summary\n",
    "topics_info = topic_model.get_topic_info()\n",
    "print(\"\\nMost frequent topics with their terms:\")\n",
    "for _, row in topics_info.head(20).iterrows():\n",
    "    topic_id = row['Topic']\n",
    "    size = row['Count']\n",
    "    if topic_id != -1:\n",
    "        terms = topic_model.get_topic(topic_id)\n",
    "        print(f\"\\nTopic {topic_id} (Size: {size}):\")\n",
    "        # Print top 10 terms for each topic with their weights\n",
    "        for term, weight in terms[:20]:\n",
    "            print(f\"  - {term}: {weight:.3f}\")"
   ]
  },
  {
   "cell_type": "code",
   "execution_count": 37,
   "metadata": {},
   "outputs": [],
   "source": [
    "# Transform documents into topics and probabilities\n",
    "#documents = df_posts['text'].tolist()\n",
    "#topics, probs = topic_model.transform(documents)\n",
    "\n",
    "# Reassign \"Other\" topics to the most probable topic\n",
    "#import numpy as np\n",
    "#for i, prob in enumerate(probs):\n",
    "#    if topics[i] == -1:  # Check for \"Other\"\n",
    "#        topics[i] = np.argmax(prob)  # Assign the most probable topic\n",
    "\n",
    "# Add topic numbers to the dataframe\n",
    "#df_posts['topic'] = topics\n",
    "\n",
    "# Generate topic labels\n",
    "#topic_labels = {}\n",
    "#for topic_id in set(topics):\n",
    "#    if topic_id != -1:\n",
    "#        terms = topic_model.get_topic(topic_id)\n",
    "#        topic_labels[topic_id] = \", \".join([term for term, _ in terms[:3]])\n",
    "#    else:\n",
    "#        topic_labels[topic_id] = \"Other\"\n",
    "\n",
    "# Add descriptive topic labels to the dataframe\n",
    "#df_posts['topic_label'] = df_posts['topic'].map(topic_labels)\n",
    "\n",
    "# Save augmented dataframe\n",
    "#df_posts.to_csv('../output/posts_with_topics.csv', index=False)"
   ]
  },
  {
   "cell_type": "code",
   "execution_count": null,
   "metadata": {},
   "outputs": [],
   "source": [
    "# \n",
    "documents = df_posts['text'].tolist()\n",
    "topics, probs = topic_model.transform(documents)\n",
    "\n",
    "# Handle \"Other\" first\n",
    "num_others = np.sum(np.array(topics) == -1)\n",
    "for i, prob in enumerate(probs):\n",
    "    if topics[i] == -1:\n",
    "        topics[i] = np.argmax(prob)\n",
    "\n",
    "# Reduce topics to a smaller number for feature clustering\n",
    "topic_model.reduce_topics(documents, nr_topics=30)\n",
    "\n",
    "# Generate labels for the topics\n",
    "topic_labels = {topic_id: \", \".join([term for term, _ in topic_model.get_topic(topic_id)[:3]]) \n",
    "               for topic_id in set(topics) if topic_id != -1}\n",
    "topic_labels[-1] = \"Other\"\n",
    "\n",
    "df_posts['topic'] = topics\n",
    "df_posts['topic_label'] = df_posts['topic'].map(topic_labels)\n",
    "df_posts.to_csv('../output/posts_with_topics.csv', index=False)"
   ]
  }
 ],
 "metadata": {
  "kernelspec": {
   "display_name": "venv",
   "language": "python",
   "name": "python3"
  },
  "language_info": {
   "codemirror_mode": {
    "name": "ipython",
    "version": 3
   },
   "file_extension": ".py",
   "mimetype": "text/x-python",
   "name": "python",
   "nbconvert_exporter": "python",
   "pygments_lexer": "ipython3",
   "version": "3.11.0"
  }
 },
 "nbformat": 4,
 "nbformat_minor": 2
}
